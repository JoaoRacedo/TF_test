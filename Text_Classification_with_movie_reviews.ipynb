{
 "cells": [
  {
   "cell_type": "code",
   "execution_count": 52,
   "metadata": {},
   "outputs": [],
   "source": [
    "from __future__ import absolute_import, division, print_function\n",
    "\n",
    "import tensorflow as tf\n",
    "import numpy as np\n",
    "import matplotlib.pyplot as plt"
   ]
  },
  {
   "cell_type": "markdown",
   "metadata": {},
   "source": [
    "The IMDB dataset comes packaged with TensorFlow. It has already been preprocessed such that the reviews (sequences of words) have been converted to sequences of integers, where each integer represents a specific word in a dictionary.\n",
    "\n",
    "The argument num_words=10000 keeps the top 10,000 most frequently occurring words in the training data. The rare words are discarded to keep the size of the data manageable."
   ]
  },
  {
   "cell_type": "code",
   "execution_count": 29,
   "metadata": {},
   "outputs": [],
   "source": [
    "imdb = tf.keras.datasets.imdb\n",
    "(train_data, train_labels), (test_data, test_label) = imdb.load_data(num_words = 10000)"
   ]
  },
  {
   "cell_type": "code",
   "execution_count": 30,
   "metadata": {},
   "outputs": [
    {
     "name": "stdout",
     "output_type": "stream",
     "text": [
      "training data: 25000, labels: 25000\n"
     ]
    }
   ],
   "source": [
    "print(\"training data: {}, labels: {}\".format(len(train_data), len(train_labels)))"
   ]
  },
  {
   "cell_type": "code",
   "execution_count": 31,
   "metadata": {},
   "outputs": [
    {
     "name": "stdout",
     "output_type": "stream",
     "text": [
      "(25000,) (25000,)\n"
     ]
    }
   ],
   "source": [
    "print(train_data.shape,test_data.shape)"
   ]
  },
  {
   "cell_type": "code",
   "execution_count": 32,
   "metadata": {},
   "outputs": [
    {
     "name": "stdout",
     "output_type": "stream",
     "text": [
      "[1, 14, 22, 16, 43, 530, 973, 1622, 1385, 65, 458, 4468, 66, 3941, 4, 173, 36, 256, 5, 25, 100, 43, 838, 112, 50, 670, 2, 9, 35, 480, 284, 5, 150, 4, 172, 112, 167, 2, 336, 385, 39, 4, 172, 4536, 1111, 17, 546, 38, 13, 447, 4, 192, 50, 16, 6, 147, 2025, 19, 14, 22, 4, 1920, 4613, 469, 4, 22, 71, 87, 12, 16, 43, 530, 38, 76, 15, 13, 1247, 4, 22, 17, 515, 17, 12, 16, 626, 18, 2, 5, 62, 386, 12, 8, 316, 8, 106, 5, 4, 2223, 5244, 16, 480, 66, 3785, 33, 4, 130, 12, 16, 38, 619, 5, 25, 124, 51, 36, 135, 48, 25, 1415, 33, 6, 22, 12, 215, 28, 77, 52, 5, 14, 407, 16, 82, 2, 8, 4, 107, 117, 5952, 15, 256, 4, 2, 7, 3766, 5, 723, 36, 71, 43, 530, 476, 26, 400, 317, 46, 7, 4, 2, 1029, 13, 104, 88, 4, 381, 15, 297, 98, 32, 2071, 56, 26, 141, 6, 194, 7486, 18, 4, 226, 22, 21, 134, 476, 26, 480, 5, 144, 30, 5535, 18, 51, 36, 28, 224, 92, 25, 104, 4, 226, 65, 16, 38, 1334, 88, 12, 16, 283, 5, 16, 4472, 113, 103, 32, 15, 16, 5345, 19, 178, 32]\n"
     ]
    }
   ],
   "source": [
    "print(train_data[0])"
   ]
  },
  {
   "cell_type": "markdown",
   "metadata": {},
   "source": [
    "Movie reviews may be different lengths. The below code shows the number of words in the first and second reviews. **Since inputs to a neural network must be the same length, we'll need to resolve this later.**"
   ]
  },
  {
   "cell_type": "code",
   "execution_count": 33,
   "metadata": {},
   "outputs": [
    {
     "data": {
      "text/plain": [
       "(218, 189)"
      ]
     },
     "execution_count": 33,
     "metadata": {},
     "output_type": "execute_result"
    }
   ],
   "source": [
    "len(train_data[0]) ,len(train_data[1])"
   ]
  },
  {
   "cell_type": "code",
   "execution_count": 34,
   "metadata": {},
   "outputs": [],
   "source": [
    "# a directory mapping words to integer index\n",
    "word_index = imdb.get_word_index()\n",
    "\n",
    "word_index = {k:(v+3) for k,v in word_index.items()}\n",
    "word_index[\"<PAD>\"] = 0\n",
    "word_index[\"<START>\"] = 1\n",
    "word_index[\"<UNK>\"] = 2  # unknown\n",
    "word_index[\"<UNUSED>\"] = 3\n",
    "reverse_word_index = dict([(value, key) for (key, value) in word_index.items()])\n",
    "\n",
    "def decode_review(text):\n",
    "    return ' '.join([reverse_word_index.get(i, '?') for i in text])"
   ]
  },
  {
   "cell_type": "code",
   "execution_count": 35,
   "metadata": {},
   "outputs": [
    {
     "data": {
      "text/plain": [
       "\"<START> this film was just brilliant casting location scenery story direction everyone's really suited the part they played and you could just imagine being there robert <UNK> is an amazing actor and now the same being director <UNK> father came from the same scottish island as myself so i loved the fact there was a real connection with this film the witty remarks throughout the film were great it was just brilliant so much that i bought the film as soon as it was released for <UNK> and would recommend it to everyone to watch and the fly fishing was amazing really cried at the end it was so sad and you know what they say if you cry at a film it must have been good and this definitely was also <UNK> to the two little boy's that played the <UNK> of norman and paul they were just brilliant children are often left out of the <UNK> list i think because the stars that play them all grown up are such a big profile for the whole film but these children are amazing and should be praised for what they have done don't you think the whole story was so lovely because it was true and was someone's life after all that was shared with us all\""
      ]
     },
     "execution_count": 35,
     "metadata": {},
     "output_type": "execute_result"
    }
   ],
   "source": [
    "decode_review(train_data[0])"
   ]
  },
  {
   "cell_type": "code",
   "execution_count": 36,
   "metadata": {},
   "outputs": [],
   "source": [
    "train_data = tf.keras.preprocessing.sequence.pad_sequences(train_data,\n",
    "                                                        value=word_index[\"<PAD>\"],\n",
    "                                                        padding='post',\n",
    "                                                        maxlen=256)\n",
    "\n",
    "test_data = tf.keras.preprocessing.sequence.pad_sequences(test_data,\n",
    "                                                       value=word_index[\"<PAD>\"],\n",
    "                                                       padding='post',\n",
    "                                                       maxlen=256)"
   ]
  },
  {
   "cell_type": "code",
   "execution_count": 37,
   "metadata": {},
   "outputs": [
    {
     "data": {
      "text/plain": [
       "(256, 256)"
      ]
     },
     "execution_count": 37,
     "metadata": {},
     "output_type": "execute_result"
    }
   ],
   "source": [
    "len(train_data[0]) ,len(train_data[1])"
   ]
  },
  {
   "cell_type": "code",
   "execution_count": 38,
   "metadata": {},
   "outputs": [
    {
     "name": "stdout",
     "output_type": "stream",
     "text": [
      "[   1   14   22   16   43  530  973 1622 1385   65  458 4468   66 3941\n",
      "    4  173   36  256    5   25  100   43  838  112   50  670    2    9\n",
      "   35  480  284    5  150    4  172  112  167    2  336  385   39    4\n",
      "  172 4536 1111   17  546   38   13  447    4  192   50   16    6  147\n",
      " 2025   19   14   22    4 1920 4613  469    4   22   71   87   12   16\n",
      "   43  530   38   76   15   13 1247    4   22   17  515   17   12   16\n",
      "  626   18    2    5   62  386   12    8  316    8  106    5    4 2223\n",
      " 5244   16  480   66 3785   33    4  130   12   16   38  619    5   25\n",
      "  124   51   36  135   48   25 1415   33    6   22   12  215   28   77\n",
      "   52    5   14  407   16   82    2    8    4  107  117 5952   15  256\n",
      "    4    2    7 3766    5  723   36   71   43  530  476   26  400  317\n",
      "   46    7    4    2 1029   13  104   88    4  381   15  297   98   32\n",
      " 2071   56   26  141    6  194 7486   18    4  226   22   21  134  476\n",
      "   26  480    5  144   30 5535   18   51   36   28  224   92   25  104\n",
      "    4  226   65   16   38 1334   88   12   16  283    5   16 4472  113\n",
      "  103   32   15   16 5345   19  178   32    0    0    0    0    0    0\n",
      "    0    0    0    0    0    0    0    0    0    0    0    0    0    0\n",
      "    0    0    0    0    0    0    0    0    0    0    0    0    0    0\n",
      "    0    0    0    0]\n"
     ]
    }
   ],
   "source": [
    "print(train_data[0])"
   ]
  },
  {
   "cell_type": "markdown",
   "metadata": {},
   "source": [
    "The neural network is created by stacking layers—this requires two main architectural decisions:\n",
    "\n",
    "* How many layers to use in the model?\n",
    "* How many hidden units to use for each layer?"
   ]
  },
  {
   "cell_type": "code",
   "execution_count": 39,
   "metadata": {},
   "outputs": [
    {
     "data": {
      "text/plain": [
       "(25000, 256)"
      ]
     },
     "execution_count": 39,
     "metadata": {},
     "output_type": "execute_result"
    }
   ],
   "source": [
    "test_data.shape"
   ]
  },
  {
   "cell_type": "code",
   "execution_count": 41,
   "metadata": {},
   "outputs": [
    {
     "name": "stdout",
     "output_type": "stream",
     "text": [
      "WARNING:tensorflow:From /Library/Frameworks/Python.framework/Versions/3.7/lib/python3.7/site-packages/tensorflow/python/ops/resource_variable_ops.py:435: colocate_with (from tensorflow.python.framework.ops) is deprecated and will be removed in a future version.\n",
      "Instructions for updating:\n",
      "Colocations handled automatically by placer.\n",
      "_________________________________________________________________\n",
      "Layer (type)                 Output Shape              Param #   \n",
      "=================================================================\n",
      "embedding (Embedding)        (None, None, 16)          160000    \n",
      "_________________________________________________________________\n",
      "global_average_pooling1d (Gl (None, 16)                0         \n",
      "_________________________________________________________________\n",
      "dense (Dense)                (None, 16)                272       \n",
      "_________________________________________________________________\n",
      "dense_1 (Dense)              (None, 1)                 17        \n",
      "=================================================================\n",
      "Total params: 160,289\n",
      "Trainable params: 160,289\n",
      "Non-trainable params: 0\n",
      "_________________________________________________________________\n"
     ]
    }
   ],
   "source": [
    "vocab_size = 10000\n",
    "# Other way to create a model\n",
    "#model = keras.Sequential()\n",
    "#model.add(keras.layers.Embedding(vocab_size, 16))\n",
    "# ...\n",
    "model = tf.keras.Sequential([\n",
    "    tf.keras.layers.Embedding(vocab_size,16),\n",
    "    tf.keras.layers.GlobalAveragePooling1D(),\n",
    "    tf.keras.layers.Dense(16, activation=tf.nn.relu),\n",
    "    tf.keras.layers.Dense(1, activation= tf.nn.sigmoid)\n",
    "])\n",
    "\n",
    "model.summary()"
   ]
  },
  {
   "cell_type": "code",
   "execution_count": 42,
   "metadata": {},
   "outputs": [],
   "source": [
    "model.compile(optimizer = 'adam',\n",
    "             loss = 'binary_crossentropy',\n",
    "              metrics=['acc'])"
   ]
  },
  {
   "cell_type": "code",
   "execution_count": 47,
   "metadata": {},
   "outputs": [],
   "source": [
    "x_validation = train_data[:10000]\n",
    "partial_x_train = train_data[10000:]\n",
    "\n",
    "y_validation = train_labels[:10000]\n",
    "partial_y_train = train_labels[10000:]"
   ]
  },
  {
   "cell_type": "code",
   "execution_count": 49,
   "metadata": {},
   "outputs": [
    {
     "data": {
      "text/plain": [
       "(15000, 256)"
      ]
     },
     "execution_count": 49,
     "metadata": {},
     "output_type": "execute_result"
    }
   ],
   "source": [
    "partial_x_train.shape"
   ]
  },
  {
   "cell_type": "code",
   "execution_count": 48,
   "metadata": {},
   "outputs": [
    {
     "name": "stdout",
     "output_type": "stream",
     "text": [
      "Train on 15000 samples, validate on 10000 samples\n",
      "WARNING:tensorflow:From /Library/Frameworks/Python.framework/Versions/3.7/lib/python3.7/site-packages/tensorflow/python/ops/math_ops.py:3066: to_int32 (from tensorflow.python.ops.math_ops) is deprecated and will be removed in a future version.\n",
      "Instructions for updating:\n",
      "Use tf.cast instead.\n",
      "Epoch 1/40\n",
      "15000/15000 [==============================] - 1s 80us/sample - loss: 0.6918 - acc: 0.6452 - val_loss: 0.6897 - val_acc: 0.7099\n",
      "Epoch 2/40\n",
      "15000/15000 [==============================] - 1s 41us/sample - loss: 0.6863 - acc: 0.7289 - val_loss: 0.6826 - val_acc: 0.7384\n",
      "Epoch 3/40\n",
      "15000/15000 [==============================] - 1s 42us/sample - loss: 0.6748 - acc: 0.7551 - val_loss: 0.6676 - val_acc: 0.7466\n",
      "Epoch 4/40\n",
      "15000/15000 [==============================] - 1s 42us/sample - loss: 0.6540 - acc: 0.7660 - val_loss: 0.6434 - val_acc: 0.7461\n",
      "Epoch 5/40\n",
      "15000/15000 [==============================] - 1s 50us/sample - loss: 0.6210 - acc: 0.7891 - val_loss: 0.6074 - val_acc: 0.7820\n",
      "Epoch 6/40\n",
      "15000/15000 [==============================] - 1s 43us/sample - loss: 0.5778 - acc: 0.8121 - val_loss: 0.5656 - val_acc: 0.8037\n",
      "Epoch 7/40\n",
      "15000/15000 [==============================] - 1s 48us/sample - loss: 0.5292 - acc: 0.8282 - val_loss: 0.5199 - val_acc: 0.8190\n",
      "Epoch 8/40\n",
      "15000/15000 [==============================] - 1s 47us/sample - loss: 0.4802 - acc: 0.8461 - val_loss: 0.4769 - val_acc: 0.8346\n",
      "Epoch 9/40\n",
      "15000/15000 [==============================] - 1s 45us/sample - loss: 0.4336 - acc: 0.8609 - val_loss: 0.4379 - val_acc: 0.8435\n",
      "Epoch 10/40\n",
      "15000/15000 [==============================] - 1s 47us/sample - loss: 0.3928 - acc: 0.8733 - val_loss: 0.4061 - val_acc: 0.8516\n",
      "Epoch 11/40\n",
      "15000/15000 [==============================] - 1s 47us/sample - loss: 0.3587 - acc: 0.8825 - val_loss: 0.3805 - val_acc: 0.8601\n",
      "Epoch 12/40\n",
      "15000/15000 [==============================] - 1s 47us/sample - loss: 0.3304 - acc: 0.8897 - val_loss: 0.3609 - val_acc: 0.8634\n",
      "Epoch 13/40\n",
      "15000/15000 [==============================] - 1s 47us/sample - loss: 0.3074 - acc: 0.8965 - val_loss: 0.3441 - val_acc: 0.8701\n",
      "Epoch 14/40\n",
      "15000/15000 [==============================] - 1s 44us/sample - loss: 0.2870 - acc: 0.9021 - val_loss: 0.3319 - val_acc: 0.8733\n",
      "Epoch 15/40\n",
      "15000/15000 [==============================] - 1s 42us/sample - loss: 0.2699 - acc: 0.9065 - val_loss: 0.3221 - val_acc: 0.8744\n",
      "Epoch 16/40\n",
      "15000/15000 [==============================] - 1s 42us/sample - loss: 0.2547 - acc: 0.9117 - val_loss: 0.3138 - val_acc: 0.8745\n",
      "Epoch 17/40\n",
      "15000/15000 [==============================] - 1s 45us/sample - loss: 0.2401 - acc: 0.9165 - val_loss: 0.3064 - val_acc: 0.8786\n",
      "Epoch 18/40\n",
      "15000/15000 [==============================] - 1s 47us/sample - loss: 0.2269 - acc: 0.9213 - val_loss: 0.3007 - val_acc: 0.8805\n",
      "Epoch 19/40\n",
      "15000/15000 [==============================] - 1s 44us/sample - loss: 0.2151 - acc: 0.9244 - val_loss: 0.2958 - val_acc: 0.8821\n",
      "Epoch 20/40\n",
      "15000/15000 [==============================] - 1s 42us/sample - loss: 0.2045 - acc: 0.9280 - val_loss: 0.2926 - val_acc: 0.8828\n",
      "Epoch 21/40\n",
      "15000/15000 [==============================] - 1s 41us/sample - loss: 0.1938 - acc: 0.9345 - val_loss: 0.2900 - val_acc: 0.8840\n",
      "Epoch 22/40\n",
      "15000/15000 [==============================] - 1s 42us/sample - loss: 0.1850 - acc: 0.9377 - val_loss: 0.2882 - val_acc: 0.8839\n",
      "Epoch 23/40\n",
      "15000/15000 [==============================] - 1s 42us/sample - loss: 0.1761 - acc: 0.9422 - val_loss: 0.2877 - val_acc: 0.8841\n",
      "Epoch 24/40\n",
      "15000/15000 [==============================] - 1s 41us/sample - loss: 0.1685 - acc: 0.9453 - val_loss: 0.2865 - val_acc: 0.8850\n",
      "Epoch 25/40\n",
      "15000/15000 [==============================] - 1s 41us/sample - loss: 0.1606 - acc: 0.9483 - val_loss: 0.2858 - val_acc: 0.8845\n",
      "Epoch 26/40\n",
      "15000/15000 [==============================] - 1s 41us/sample - loss: 0.1537 - acc: 0.9515 - val_loss: 0.2870 - val_acc: 0.8835\n",
      "Epoch 27/40\n",
      "15000/15000 [==============================] - 1s 41us/sample - loss: 0.1471 - acc: 0.9540 - val_loss: 0.2871 - val_acc: 0.8846\n",
      "Epoch 28/40\n",
      "15000/15000 [==============================] - 1s 41us/sample - loss: 0.1409 - acc: 0.9559 - val_loss: 0.2882 - val_acc: 0.8846\n",
      "Epoch 29/40\n",
      "15000/15000 [==============================] - 1s 41us/sample - loss: 0.1353 - acc: 0.9591 - val_loss: 0.2908 - val_acc: 0.8842\n",
      "Epoch 30/40\n",
      "15000/15000 [==============================] - 1s 41us/sample - loss: 0.1296 - acc: 0.9607 - val_loss: 0.2905 - val_acc: 0.8856\n",
      "Epoch 31/40\n",
      "15000/15000 [==============================] - 1s 41us/sample - loss: 0.1238 - acc: 0.9635 - val_loss: 0.2923 - val_acc: 0.8863\n",
      "Epoch 32/40\n",
      "15000/15000 [==============================] - 1s 41us/sample - loss: 0.1186 - acc: 0.9667 - val_loss: 0.2945 - val_acc: 0.8859\n",
      "Epoch 33/40\n",
      "15000/15000 [==============================] - 1s 45us/sample - loss: 0.1137 - acc: 0.9679 - val_loss: 0.2974 - val_acc: 0.8843\n",
      "Epoch 34/40\n",
      "15000/15000 [==============================] - 1s 45us/sample - loss: 0.1092 - acc: 0.9691 - val_loss: 0.3002 - val_acc: 0.8840\n",
      "Epoch 35/40\n",
      "15000/15000 [==============================] - 1s 41us/sample - loss: 0.1049 - acc: 0.9702 - val_loss: 0.3037 - val_acc: 0.8842\n",
      "Epoch 36/40\n",
      "15000/15000 [==============================] - 1s 41us/sample - loss: 0.1006 - acc: 0.9727 - val_loss: 0.3060 - val_acc: 0.8842\n",
      "Epoch 37/40\n",
      "15000/15000 [==============================] - 1s 41us/sample - loss: 0.0964 - acc: 0.9740 - val_loss: 0.3093 - val_acc: 0.8832\n",
      "Epoch 38/40\n",
      "15000/15000 [==============================] - 1s 41us/sample - loss: 0.0925 - acc: 0.9762 - val_loss: 0.3137 - val_acc: 0.8817\n",
      "Epoch 39/40\n",
      "15000/15000 [==============================] - 1s 42us/sample - loss: 0.0893 - acc: 0.9771 - val_loss: 0.3182 - val_acc: 0.8811\n",
      "Epoch 40/40\n",
      "15000/15000 [==============================] - 1s 46us/sample - loss: 0.0853 - acc: 0.9785 - val_loss: 0.3212 - val_acc: 0.8818\n"
     ]
    }
   ],
   "source": [
    "history = model.fit(partial_x_train,\n",
    "                   partial_y_train,\n",
    "                   epochs = 40,\n",
    "                   batch_size = 512,\n",
    "                   validation_data = (x_validation, y_validation),\n",
    "                   verbose = 1)"
   ]
  },
  {
   "cell_type": "code",
   "execution_count": 50,
   "metadata": {},
   "outputs": [
    {
     "name": "stdout",
     "output_type": "stream",
     "text": [
      "25000/25000 [==============================] - 1s 39us/sample - loss: 0.3434 - acc: 0.8700\n"
     ]
    }
   ],
   "source": [
    "results = model.evaluate(test_data,test_label)"
   ]
  },
  {
   "cell_type": "code",
   "execution_count": 51,
   "metadata": {},
   "outputs": [
    {
     "data": {
      "text/plain": [
       "dict_keys(['loss', 'acc', 'val_loss', 'val_acc'])"
      ]
     },
     "execution_count": 51,
     "metadata": {},
     "output_type": "execute_result"
    }
   ],
   "source": [
    "history_dict = history.history\n",
    "history_dict.keys()"
   ]
  },
  {
   "cell_type": "code",
   "execution_count": 53,
   "metadata": {},
   "outputs": [
    {
     "data": {
      "image/png": "[encoded data removed]",
      "text/plain": [
       "<Figure size 432x288 with 1 Axes>"
      ]
     },
     "metadata": {},
     "output_type": "display_data"
    }
   ],
   "source": [
    "acc = history_dict['acc']\n",
    "val_acc = history_dict['val_acc']\n",
    "loss = history_dict['loss']\n",
    "val_loss = history_dict['val_loss']\n",
    "\n",
    "epochs = range(1,len(acc)+1)\n",
    "\n",
    "plt.plot(epochs, loss,'bo' ,label = 'Training loss')\n",
    "plt.plot(epochs, val_loss,'b', label = 'Validations loss')\n",
    "plt.title('Training and validation loss')\n",
    "plt.xlabel('Epochs')\n",
    "plt.ylabel('Loss')\n",
    "plt.legend()\n",
    "\n",
    "plt.show()"
   ]
  },
  {
   "cell_type": "code",
   "execution_count": 54,
   "metadata": {},
   "outputs": [
    {
     "data": {
      "image/png": "[encoded data removed]",
      "text/plain": [
       "<Figure size 432x288 with 1 Axes>"
      ]
     },
     "metadata": {},
     "output_type": "display_data"
    }
   ],
   "source": [
    "plt.clf()   # clear figure\n",
    "\n",
    "plt.plot(epochs, acc, 'bo', label='Training acc')\n",
    "plt.plot(epochs, val_acc, 'b', label='Validation acc')\n",
    "plt.title('Training and validation accuracy')\n",
    "plt.xlabel('Epochs')\n",
    "plt.ylabel('Accuracy')\n",
    "plt.legend()\n",
    "\n",
    "plt.show()"
   ]
  },
  {
   "cell_type": "markdown",
   "metadata": {},
   "source": [
    "This is an example of **overfitting**: the model performs better on the training data than it does on data it has never seen before. After this point, the model over-optimizes and learns representations specific to the training data that do not generalize to test data.\n",
    "\n",
    "For this particular case, we could prevent overfitting by simply stopping the training after twenty or so epochs. Later, you'll see how to do this automatically with a callback."
   ]
  }
 ],
 "metadata": {
  "kernelspec": {
   "display_name": "Python 3",
   "language": "python",
   "name": "python3"
  },
  "language_info": {
   "codemirror_mode": {
    "name": "ipython",
    "version": 3
   },
   "file_extension": ".py",
   "mimetype": "text/x-python",
   "name": "python",
   "nbconvert_exporter": "python",
   "pygments_lexer": "ipython3",
   "version": "3.7.0"
  }
 },
 "nbformat": 4,
 "nbformat_minor": 2
}
